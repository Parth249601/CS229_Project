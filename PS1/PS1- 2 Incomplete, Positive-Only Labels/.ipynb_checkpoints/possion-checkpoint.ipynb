{
 "cells": [
  {
   "cell_type": "code",
   "execution_count": null,
   "id": "2d466460",
   "metadata": {},
   "outputs": [],
   "source": [
    "import numpy as np\n",
    "import util\n",
    "\n",
    "from Ques1.python_files.logistic import LogisticRegression\n",
    "\n",
    "# Character to replace with sub-problem letter in plot_path/pred_path\n",
    "WILDCARD = 'X'\n",
    "\n",
    "\n",
    "def main(train_path, valid_path, test_path, pred_path):\n",
    "    \"\"\"Problem 2: Logistic regression for incomplete, positive-only labels.\n",
    "\n",
    "    Run under the following conditions:\n",
    "        1. on y-labels,\n",
    "        2. on l-labels,\n",
    "        3. on l-labels with correction factor alpha.\n",
    "\n",
    "    Args:\n",
    "        train_path: Path to CSV file containing training set.\n",
    "        valid_path: Path to CSV file containing validation set.\n",
    "        test_path: Path to CSV file containing test set.\n",
    "        pred_path: Path to save predictions.\n",
    "    \"\"\"\n",
    "    pred_path_c = pred_path.replace(WILDCARD, 'c')\n",
    "    pred_path_d = pred_path.replace(WILDCARD, 'd')\n",
    "    pred_path_e = pred_path.replace(WILDCARD, 'e')\n",
    "\n",
    "    # *** START CODE HERE ***\n",
    "    # Part (c): Train and test on true labels\n",
    "    # Make sure to save outputs to pred_path_c\n",
    "    # Part (d): Train on y-labels and test on true labels\n",
    "    # Make sure to save outputs to pred_path_d\n",
    "    # Part (e): Apply correction factor using validation set and test on true labels\n",
    "    # Plot and use np.savetxt to save outputs to pred_path_e\n",
    "    # *** END CODER HERE"
   ]
  }
 ],
 "metadata": {
  "language_info": {
   "name": "python"
  }
 },
 "nbformat": 4,
 "nbformat_minor": 5
}
