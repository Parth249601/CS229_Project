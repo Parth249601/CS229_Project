{
 "cells": [
  {
   "cell_type": "markdown",
   "id": "ddf57dc4",
   "metadata": {},
   "source": []
  },
  {
   "cell_type": "code",
   "execution_count": 11,
   "id": "4fd9a04f",
   "metadata": {},
   "outputs": [],
   "source": [
    "import sys\n",
    "import os\n",
    "\n",
    "# Assuming you're running from CS229 directory\n",
    "sys.path.append(os.path.abspath(os.path.join(os.getcwd(), '..', '..')))\n",
    "\n",
    "import numpy as np\n",
    "import util\n",
    "\n",
    "from PS1.Ques1.python_files.logistic import LogisticRegression\n",
    "\n",
    "# Character to replace with sub-problem letter in plot_path/pred_path\n",
    "WILDCARD = 'X'\n",
    "\n",
    "\n",
    "def main(train_path, valid_path, test_path, pred_path):\n",
    "    \"\"\"Problem 2: Logistic regression for incomplete, positive-only labels.\n",
    "\n",
    "    Run under the following conditions:\n",
    "        1. on y-labels,\n",
    "        2. on l-labels,\n",
    "        3. on l-labels with correction factor alpha.\n",
    "\n",
    "    Args:\n",
    "        train_path: Path to CSV file containing training set.\n",
    "        valid_path: Path to CSV file containing validation set.\n",
    "        test_path: Path to CSV file containing test set.\n",
    "        pred_path: Path to save predictions.\n",
    "    \"\"\"\n",
    "    pred_path_c = pred_path.replace(WILDCARD, 'c')\n",
    "    pred_path_d = pred_path.replace(WILDCARD, 'd')\n",
    "    pred_path_e = pred_path.replace(WILDCARD, 'e')\n",
    "\n",
    "    # *** START CODE HERE ***\n",
    "    # Part (c): Train and test on true labels\n",
    "    # Make sure to save outputs to pred_path_c\n",
    "    # Part (d): Train on y-labels and test on true labels\n",
    "    # Make sure to save outputs to pred_path_d\n",
    "    # Part (e): Apply correction factor using validation set and test on true labels\n",
    "    # Plot and use np.savetxt to save outputs to pred_path_e\n",
    "    # *** END CODER HERE"
   ]
  }
 ],
 "metadata": {
  "kernelspec": {
   "display_name": "Python 3",
   "language": "python",
   "name": "python3"
  },
  "language_info": {
   "codemirror_mode": {
    "name": "ipython",
    "version": 3
   },
   "file_extension": ".py",
   "mimetype": "text/x-python",
   "name": "python",
   "nbconvert_exporter": "python",
   "pygments_lexer": "ipython3",
   "version": "3.10.11"
  }
 },
 "nbformat": 4,
 "nbformat_minor": 5
}
