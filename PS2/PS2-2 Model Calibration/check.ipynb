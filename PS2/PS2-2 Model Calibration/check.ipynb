{
 "cells": [
  {
   "cell_type": "code",
   "execution_count": null,
   "id": "d5b8eafa",
   "metadata": {},
   "outputs": [],
   "source": [
    "\n",
    "from src import p01_lr\n",
    "from src import util\n",
    "import numpy as np\n",
    "\n",
    "def sigmoid(z):\n",
    "    return np.where(z >= 0, 1 / (1 + np.exp(-z)), np.exp(z) / (1 + np.exp(z)))\n",
    "def main():\n",
    "    Xa, Ya = util.load_csv('data/ds1_a.csv', add_intercept=True)\n",
    "    theta_a = p01_lr.logistic_regression(Xa,Ya)\n",
    "\n",
    "    \n",
    "\n",
    "    theta_tranpose_X = Xa @ theta_a\n",
    "\n",
    "    prob_a = sigmoid(theta_tranpose_X)\n",
    "\n",
    "    sum = np.sum(prob_a)\n",
    "    print(f\"Sum of probabilities for dataset A: {sum:.4f}\")\n",
    "\n",
    "    print(f\"The Number of times probability equals to 1 in labels:{np.sum(Ya == 1)}\")\n",
    "\n",
    "    \n",
    "\n"
   ]
  },
  {
   "cell_type": "code",
   "execution_count": 7,
   "id": "f0426999",
   "metadata": {},
   "outputs": [
    {
     "name": "stdout",
     "output_type": "stream",
     "text": [
      "Finished 10000 iterations\n",
      "Finished 20000 iterations\n",
      "Finished 30000 iterations\n",
      "Converged in 30386 iterations\n",
      "theta_a: [-20.81437788  21.45295159  19.85198176]\n",
      "theta_a_prime: [-2.01916222  2.04564879  1.75949496]\n",
      "Sum of probabilities for dataset A: 46.0000\n",
      "The Number of times probability equals to 1 in labels:46\n"
     ]
    }
   ],
   "source": [
    "if __name__ == \"__main__\":\n",
    "    main()"
   ]
  },
  {
   "cell_type": "code",
   "execution_count": null,
   "id": "e1393082",
   "metadata": {},
   "outputs": [],
   "source": []
  }
 ],
 "metadata": {
  "kernelspec": {
   "display_name": "Python 3",
   "language": "python",
   "name": "python3"
  },
  "language_info": {
   "codemirror_mode": {
    "name": "ipython",
    "version": 3
   },
   "file_extension": ".py",
   "mimetype": "text/x-python",
   "name": "python",
   "nbconvert_exporter": "python",
   "pygments_lexer": "ipython3",
   "version": "3.10.11"
  }
 },
 "nbformat": 4,
 "nbformat_minor": 5
}
